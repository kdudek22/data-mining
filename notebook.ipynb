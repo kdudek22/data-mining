{
 "cells": [
  {
   "cell_type": "code",
   "execution_count": 103,
   "id": "initial_id",
   "metadata": {
    "collapsed": true,
    "ExecuteTime": {
     "end_time": "2025-10-31T22:51:33.671863Z",
     "start_time": "2025-10-31T22:51:33.668453300Z"
    }
   },
   "outputs": [],
   "source": [
    "import json\n",
    "import re\n",
    "\n",
    "data = json.loads(open(\"data/data.json\", encoding=\"utf-8\").read())"
   ]
  },
  {
   "cell_type": "code",
   "execution_count": 104,
   "outputs": [],
   "source": [
    "import attrs\n",
    "import typing as t\n",
    "\n",
    "\n",
    "@attrs.define(on_setattr=attrs.setters.validate)\n",
    "class CarListing:\n",
    "    id: str\n",
    "    url: str\n",
    "    tytul: str\n",
    "    opis: str\n",
    "    cena: int\n",
    "    prywatne: bool\n",
    "    model: str | None\n",
    "    rok_produkcji: int | None\n",
    "    paliwo: t.Literal[\"Diesel\", \"Benzyna\"]\n",
    "    przebieg: int | None\n",
    "    pojemnosc: int | None\n",
    "    skrzynia_biegow: t.Literal[\"Automatyczna\", \"Manualna\"]\n",
    "    kraj_pochodzenia: str | None\n",
    "    moc: int | None"
   ],
   "metadata": {
    "collapsed": false,
    "ExecuteTime": {
     "end_time": "2025-10-31T22:51:34.601859100Z",
     "start_time": "2025-10-31T22:51:34.599002100Z"
    }
   },
   "id": "62eac88ecd1a1f6a"
  },
  {
   "cell_type": "code",
   "execution_count": 107,
   "outputs": [],
   "source": [
    "\n",
    "def parse(data_dict: dict):\n",
    "    parsed_dict = {\n",
    "        \"id\": data_dict[\"id\"].split(\" \")[1],\n",
    "        \"url\": data_dict[\"url\"],\n",
    "        \"tytul\": data_dict[\"title\"],\n",
    "        \"opis\": re.sub(r'\\n+', '.', data_dict[\"description\"]),  # TODO probably more cleaning\n",
    "        \"cena\": int(data_dict[\"price\"].split(\"zł\")[0].replace(\" \", \"\")),\n",
    "        \"prywatne\": data_dict[\"parameters\"].pop(0) == \"Prywatne\" if len(\"parameters\") else None\n",
    "    }\n",
    "    \n",
    "    attributes_dict = {attribute.split(\":\")[0].strip(): attribute.split(\":\")[1].strip() for attribute in data_dict[\"parameters\"]}\n",
    "    \n",
    "    parsed_dict = {\n",
    "        **parsed_dict,\n",
    "        \"model\": attributes_dict.get(\"Model\", None),\n",
    "        \"rok_produkcji\": attributes_dict.get(\"Rok produkcji\", None),\n",
    "        \"paliwo\": attributes_dict.get(\"Paliwo\", None),\n",
    "        \"przebieg\": int(attributes_dict[\"Przebieg\"].split(\"km\")[0].replace(\" \", \"\")) if \"Przebieg\" in attributes_dict else None,\n",
    "        \"pojemnosc\": int(attributes_dict[\"Poj. silnika\"].split(\"cm\")[0].replace(\" \", \"\")) if \"Poj. silnika\" in attributes_dict else None,\n",
    "        \"skrzynia_biegow\": attributes_dict.get(\"Skrzynia biegów\", None),\n",
    "        \"kraj_pochodzenia\": attributes_dict.get(\"Kraj pochodzenia\", None),\n",
    "        \"moc\": int(attributes_dict[\"Moc silnika\"].split(\" \")[0]) if \"Moc silnika\" in attributes_dict else None,\n",
    "    }\n",
    "\n",
    "    return CarListing(**parsed_dict)"
   ],
   "metadata": {
    "collapsed": false,
    "ExecuteTime": {
     "end_time": "2025-10-31T22:51:42.933926300Z",
     "start_time": "2025-10-31T22:51:42.924515Z"
    }
   },
   "id": "9c1473e744593fda"
  },
  {
   "cell_type": "code",
   "execution_count": 109,
   "outputs": [],
   "source": [
    "res = []\n",
    "\n",
    "for entry in data:\n",
    "    res.append(parse(entry))\n"
   ],
   "metadata": {
    "collapsed": false,
    "ExecuteTime": {
     "end_time": "2025-10-31T22:51:56.338006700Z",
     "start_time": "2025-10-31T22:51:56.326005400Z"
    }
   },
   "id": "fbff59e80813f3a0"
  },
  {
   "cell_type": "code",
   "execution_count": 110,
   "outputs": [
    {
     "data": {
      "text/plain": "CarListing(id='1031072842', url='https://www.olx.pl/d/oferta/bmw-e36-325i-192km-r6-m54b25-daily-drift-szpera-hydro-mpakiet-barany-f-CID5-ID17Mh98.html', tytul='BMW e36 325i 192km R6 M54b25 daily/drift szpera hydro mpakiet barany f', opis='Witam.Sprzedam moją maskotkę i najlepszego kamrata BMW e36 318i/325i.Dużo by tu pisać ale w skrócie:.Auto zbudowane pod daily/drift czyli środek cywilny z działającym radiem i wkręcanym hydro:.- silnik R6 2.5 192km M54b25 z e46, przed włożeniem sprawdzony,(wyjety z jeżdżącego auta) wyczyszczony, uszczelniony(nowe uszczelki).-filtr paliwa przeniesiony wyżej z NOWYMI przewodami paliwowymi, można śmiało trzeć podłużnicami, brak możliwości jego zerwania.-do wiązki wpięte OBD (można podpiąć kompa i połączyć się z silnikiem).-NOWE świece.-NOWE kolektory barany schmiedmann.-komora silnika wyczyszczona i pomalowana w róż.-M pakiet zderzak przód , zderzak tył, listwy progowe, szerokie listwy.-GT Class 2.-duże hamulce z46 Mpak wypiaskowane, pomalowane proszkiem w róż, NOWE tarcze nawiercane, NOWE klocki, NOWE gumki, tłoczki.-NOWE przewody w stalowym oplocie.-NOWE przewody hamulcowe.-NOWA chłodnica.-NOWE nerki.-NOWE znaczki.-NOWE zamki maski.-odmalowane, rzadkie felgi 17 CMS.-gwint.-dołożone skręty.-NOWE acenteyczne tuleje poli w wachaczach.-zrobiona geometria pod daily/drift.-shortshifter.-NOWE wachacze regulowane tył Swagier.-NOWE camber plates Swagier.-rozporki przód, tył.-NOWA kierownica z nabą.-fotele sporty z e36 coupe.-szpera 100%, krótki dyfer.-ręczny działa (100% legalna furka).-hydro wkręcane z zaślepką.- indywidualne tablice rejestracyjne.-podwozie, nadkola zabezpieczone.-karoseria odmalowana na biało.-blacharka robiona przez poprzedniego właściciela, progi, wózek wszystko na miejscu, dzwiga się bez problemu.- jackpot.- środek, podsufitka, boczki obite w różowe kwatki.Przyjaciel pewnie się prowadzi, skręca i hamuje lepiej jak nie jedno nowe auto..Cena do nego. Ewentualną zamianę też przemyślę..Odpowiem na wszelkie pytania.', cena=20800, prywatne=False, model=None, rok_produkcji=None, paliwo='Benzyna', przebieg=302000, pojemnosc=2500, skrzynia_biegow='Manualna', kraj_pochodzenia='Niemcy', moc=192)"
     },
     "execution_count": 110,
     "metadata": {},
     "output_type": "execute_result"
    }
   ],
   "source": [
    "res[0]"
   ],
   "metadata": {
    "collapsed": false,
    "ExecuteTime": {
     "end_time": "2025-10-31T22:51:58.236339100Z",
     "start_time": "2025-10-31T22:51:58.222330700Z"
    }
   },
   "id": "5b9d4c46f06c44ca"
  },
  {
   "cell_type": "code",
   "execution_count": null,
   "outputs": [],
   "source": [],
   "metadata": {
    "collapsed": false
   },
   "id": "eaf9d02e89283e28"
  }
 ],
 "metadata": {
  "kernelspec": {
   "display_name": "Python 3",
   "language": "python",
   "name": "python3"
  },
  "language_info": {
   "codemirror_mode": {
    "name": "ipython",
    "version": 2
   },
   "file_extension": ".py",
   "mimetype": "text/x-python",
   "name": "python",
   "nbconvert_exporter": "python",
   "pygments_lexer": "ipython2",
   "version": "2.7.6"
  }
 },
 "nbformat": 4,
 "nbformat_minor": 5
}
